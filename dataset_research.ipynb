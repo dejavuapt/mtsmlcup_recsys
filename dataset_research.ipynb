{
 "cells": [
  {
   "attachments": {},
   "cell_type": "markdown",
   "metadata": {},
   "source": [
    "awwa"
   ]
  },
  {
   "cell_type": "code",
   "execution_count": 2,
   "metadata": {},
   "outputs": [],
   "source": [
    "import polars as pl\n",
    "import graphviz\n",
    "import pandas\n",
    "import glob\n",
    "import time\n",
    "import pandas as pd\n",
    "import vaex"
   ]
  },
  {
   "cell_type": "code",
   "execution_count": 3,
   "metadata": {},
   "outputs": [],
   "source": [
    "LOCAL_DATA_PATH = './context_data'\n",
    "DATA_FILE = 'competition_data_final_pqt'\n",
    "TARGET_FILE = 'public_train.pqt'\n",
    "SUBMISSION_FILE = 'submit_2.pqt'"
   ]
  },
  {
   "cell_type": "code",
   "execution_count": 4,
   "metadata": {},
   "outputs": [
    {
     "data": {
      "text/plain": [
       "['region_name',\n",
       " 'city_name',\n",
       " 'cpe_manufacturer_name',\n",
       " 'cpe_model_name',\n",
       " 'url_host',\n",
       " 'cpe_type_cd',\n",
       " 'cpe_model_os_type',\n",
       " 'price',\n",
       " 'date',\n",
       " 'part_of_day',\n",
       " 'request_cnt',\n",
       " 'user_id']"
      ]
     },
     "execution_count": 4,
     "metadata": {},
     "output_type": "execute_result"
    }
   ],
   "source": [
    "\n",
    "queries = []\n",
    "\n",
    "for file in glob.glob(f'{LOCAL_DATA_PATH}/{DATA_FILE}/*.parquet'):\n",
    "    q = pl.scan_parquet(file)\n",
    "    queries.append(q)\n",
    "\n",
    "queries[0].columns\n"
   ]
  },
  {
   "cell_type": "code",
   "execution_count": 5,
   "metadata": {},
   "outputs": [],
   "source": [
    "df = vaex.open_many(glob.glob(f'{LOCAL_DATA_PATH}/{DATA_FILE}/*.parquet'))"
   ]
  },
  {
   "cell_type": "code",
   "execution_count": 8,
   "metadata": {},
   "outputs": [
    {
     "data": {
      "text/html": [
       "<table>\n",
       "<thead>\n",
       "<tr><th>#                                      </th><th>region_name       </th><th>city_name  </th><th>cpe_manufacturer_name  </th><th>cpe_model_name  </th><th>url_host              </th><th>cpe_type_cd  </th><th>cpe_model_os_type  </th><th>price  </th><th>date      </th><th>part_of_day  </th><th>request_cnt  </th><th>user_id  </th></tr>\n",
       "</thead>\n",
       "<tbody>\n",
       "<tr><td><i style='opacity: 0.6'>0</i>          </td><td>Краснодарский край</td><td>Краснодар  </td><td>Apple                  </td><td>iPhone 7        </td><td>ad.adriver.ru         </td><td>smartphone   </td><td>iOS                </td><td>20368.0</td><td>2022-06-15</td><td>morning      </td><td>1            </td><td>45098    </td></tr>\n",
       "<tr><td><i style='opacity: 0.6'>1</i>          </td><td>Краснодарский край</td><td>Краснодар  </td><td>Apple                  </td><td>iPhone 7        </td><td>apple.com             </td><td>smartphone   </td><td>iOS                </td><td>20368.0</td><td>2022-06-19</td><td>morning      </td><td>1            </td><td>45098    </td></tr>\n",
       "<tr><td><i style='opacity: 0.6'>2</i>          </td><td>Краснодарский край</td><td>Краснодар  </td><td>Apple                  </td><td>iPhone 7        </td><td>avatars.mds.yandex.net</td><td>smartphone   </td><td>iOS                </td><td>20368.0</td><td>2022-06-12</td><td>day          </td><td>1            </td><td>45098    </td></tr>\n",
       "<tr><td>...                                    </td><td>...               </td><td>...        </td><td>...                    </td><td>...             </td><td>...                   </td><td>...          </td><td>...                </td><td>...    </td><td>...       </td><td>...          </td><td>...          </td><td>...      </td></tr>\n",
       "<tr><td><i style='opacity: 0.6'>322,899,433</i></td><td>Калужская область </td><td>Обнинск    </td><td>Samsung                </td><td>Galaxy A30s Dual</td><td>s0.2mdn.net           </td><td>smartphone   </td><td>Android            </td><td>16376.0</td><td>2021-07-19</td><td>evening      </td><td>1            </td><td>300964   </td></tr>\n",
       "<tr><td><i style='opacity: 0.6'>322,899,434</i></td><td>Калужская область </td><td>Обнинск    </td><td>Samsung                </td><td>Galaxy A30s Dual</td><td>zen.yandex.ru         </td><td>smartphone   </td><td>Android            </td><td>16376.0</td><td>2021-08-09</td><td>night        </td><td>1            </td><td>300964   </td></tr>\n",
       "</tbody>\n",
       "</table>"
      ],
      "text/plain": [
       "<IPython.core.display.HTML object>"
      ]
     },
     "metadata": {},
     "output_type": "display_data"
    }
   ],
   "source": [
    "df.head_and_tail_print(n=5)"
   ]
  },
  {
   "attachments": {},
   "cell_type": "markdown",
   "metadata": {},
   "source": [
    "*dataset*\n",
    "- region_name - регион - str\n",
    "- city_name\t- город - str\n",
    "- cpe_manufacturer_name - производитель\t- str\n",
    "- cpe_model_name - модель - str\n",
    "- url_host - домен - str\n",
    "- cpe_type_cd - тип устройства - str\n",
    "- cpe_model_os_type\t- операционка - str\n",
    "- price\t- цена - f64\n",
    "- date\t- дата - date\n",
    "- part_of_day - время дня - str\n",
    "- request_cnt\t- число запросов - i64\n",
    "- user_id - id пользователя - i64"
   ]
  }
 ],
 "metadata": {
  "kernelspec": {
   "display_name": "env",
   "language": "python",
   "name": "python3"
  },
  "language_info": {
   "codemirror_mode": {
    "name": "ipython",
    "version": 3
   },
   "file_extension": ".py",
   "mimetype": "text/x-python",
   "name": "python",
   "nbconvert_exporter": "python",
   "pygments_lexer": "ipython3",
   "version": "3.10.6"
  },
  "orig_nbformat": 4,
  "vscode": {
   "interpreter": {
    "hash": "f0205a41f4d02139693f2028ac734a99a8987290173815c5fa6e23a585242729"
   }
  }
 },
 "nbformat": 4,
 "nbformat_minor": 2
}
